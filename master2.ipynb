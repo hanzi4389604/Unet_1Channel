{
 "cells": [
  {
   "cell_type": "code",
   "execution_count": 1,
   "id": "1eea919b-f4be-4ca2-8773-35b30aeb4fe0",
   "metadata": {},
   "outputs": [],
   "source": [
    "#print"
   ]
  },
  {
   "cell_type": "code",
   "execution_count": 2,
   "id": "c05d7124-5c83-48eb-8534-b47ed0a7ab55",
   "metadata": {},
   "outputs": [],
   "source": [
    "import pandas as pd"
   ]
  },
  {
   "cell_type": "code",
   "execution_count": 3,
   "id": "4057d378-fa59-4730-90c2-e7ceccd18de2",
   "metadata": {},
   "outputs": [
    {
     "name": "stdout",
     "output_type": "stream",
     "text": [
      "hello 123\n"
     ]
    }
   ],
   "source": [
    "print('hello 123')"
   ]
  },
  {
   "cell_type": "code",
   "execution_count": null,
   "id": "4bd6b0af-2b8a-4f8a-a85b-60f2ea39b5fc",
   "metadata": {},
   "outputs": [],
   "source": []
  }
 ],
 "metadata": {
  "kernelspec": {
   "display_name": "Python 3 (ipykernel)",
   "language": "python",
   "name": "python3"
  },
  "language_info": {
   "codemirror_mode": {
    "name": "ipython",
    "version": 3
   },
   "file_extension": ".py",
   "mimetype": "text/x-python",
   "name": "python",
   "nbconvert_exporter": "python",
   "pygments_lexer": "ipython3",
   "version": "3.9.12"
  }
 },
 "nbformat": 4,
 "nbformat_minor": 5
}
