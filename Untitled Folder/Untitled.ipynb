{
 "cells": [
  {
   "cell_type": "code",
   "execution_count": null,
   "id": "d276a24b-ba02-49b0-a8b0-5660b7fb231d",
   "metadata": {},
   "outputs": [],
   "source": [
    "asdfasdf"
   ]
  }
 ],
 "metadata": {
  "kernelspec": {
   "display_name": "Python 3 (ipykernel)",
   "language": "python",
   "name": "python3"
  },
  "language_info": {
   "codemirror_mode": {
    "name": "ipython",
    "version": 3
   },
   "file_extension": ".py",
   "mimetype": "text/x-python",
   "name": "python",
   "nbconvert_exporter": "python",
   "pygments_lexer": "ipython3",
   "version": "3.9.12"
  }
 },
 "nbformat": 4,
 "nbformat_minor": 5
}
