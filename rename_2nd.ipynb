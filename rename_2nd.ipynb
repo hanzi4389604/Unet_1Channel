{
 "cells": [
  {
   "cell_type": "code",
   "execution_count": null,
   "id": "24b871d4-93e7-44bb-8d9b-ca813119798a",
   "metadata": {},
   "outputs": [],
   "source": [
    "sfsdfsd"
   ]
  },
  {
   "cell_type": "code",
   "execution_count": null,
   "id": "f9e74d58-c926-4bfd-a3e7-6c7fe8a42312",
   "metadata": {},
   "outputs": [],
   "source": [
    "re_name test 2nd est"
   ]
  }
 ],
 "metadata": {
  "kernelspec": {
   "display_name": "Python 3 (ipykernel)",
   "language": "python",
   "name": "python3"
  },
  "language_info": {
   "codemirror_mode": {
    "name": "ipython",
    "version": 3
   },
   "file_extension": ".py",
   "mimetype": "text/x-python",
   "name": "python",
   "nbconvert_exporter": "python",
   "pygments_lexer": "ipython3",
   "version": "3.9.12"
  }
 },
 "nbformat": 4,
 "nbformat_minor": 5
}
