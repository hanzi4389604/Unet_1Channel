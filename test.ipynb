{
 "cells": [
  {
   "cell_type": "code",
   "execution_count": 4,
   "id": "564d6248-93bb-485a-904e-17129e50db6d",
   "metadata": {},
   "outputs": [],
   "source": [
    "# adfa"
   ]
  },
  {
   "cell_type": "code",
   "execution_count": 5,
   "id": "d4e8f8af-fba0-4e67-a18a-a062f90029a0",
   "metadata": {},
   "outputs": [
    {
     "name": "stdout",
     "output_type": "stream",
     "text": [
      "why you are not work\n"
     ]
    }
   ],
   "source": [
    "print('why you are not work')"
   ]
  },
  {
   "cell_type": "code",
   "execution_count": null,
   "id": "4a593a97-3ec9-47cd-af09-ac3f6566230e",
   "metadata": {},
   "outputs": [],
   "source": []
  }
 ],
 "metadata": {
  "kernelspec": {
   "display_name": "Python 3 (ipykernel)",
   "language": "python",
   "name": "python3"
  },
  "language_info": {
   "codemirror_mode": {
    "name": "ipython",
    "version": 3
   },
   "file_extension": ".py",
   "mimetype": "text/x-python",
   "name": "python",
   "nbconvert_exporter": "python",
   "pygments_lexer": "ipython3",
   "version": "3.9.12"
  }
 },
 "nbformat": 4,
 "nbformat_minor": 5
}
