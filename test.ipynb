{
 "cells": [
  {
   "cell_type": "code",
   "execution_count": 4,
   "id": "564d6248-93bb-485a-904e-17129e50db6d",
   "metadata": {},
   "outputs": [],
   "source": [
    "# adfa"
   ]
  },
  {
   "cell_type": "code",
   "execution_count": 5,
   "id": "d4e8f8af-fba0-4e67-a18a-a062f90029a0",
   "metadata": {},
   "outputs": [
    {
     "name": "stdout",
     "output_type": "stream",
     "text": [
      "why you are not work\n"
     ]
    }
   ],
   "source": [
    "print('why you are not work')"
   ]
  },
  {
   "cell_type": "code",
   "execution_count": 6,
   "id": "4a593a97-3ec9-47cd-af09-ac3f6566230e",
   "metadata": {},
   "outputs": [
    {
     "name": "stdout",
     "output_type": "stream",
     "text": [
      "this is direct chage and upload\n"
     ]
    }
   ],
   "source": [
    "print(\"this is direct chage and upload\")"
   ]
  },
  {
   "cell_type": "code",
   "execution_count": 7,
   "id": "799731fb-67c4-48db-beb4-800a2d28f35b",
   "metadata": {},
   "outputs": [
    {
     "ename": "SyntaxError",
     "evalue": "invalid syntax (1204310115.py, line 1)",
     "output_type": "error",
     "traceback": [
      "\u001b[0;36m  Input \u001b[0;32mIn [7]\u001b[0;36m\u001b[0m\n\u001b[0;31m    this is another direct change\u001b[0m\n\u001b[0m                    ^\u001b[0m\n\u001b[0;31mSyntaxError\u001b[0m\u001b[0;31m:\u001b[0m invalid syntax\n"
     ]
    }
   ],
   "source": [
    "print(\"this is another direct change\")"
   ]
  },
  {
   "cell_type": "code",
   "execution_count": 8,
   "id": "223b039e-6613-4168-98bf-7489dc9d917f",
   "metadata": {},
   "outputs": [
    {
     "ename": "SyntaxError",
     "evalue": "invalid syntax (4024896910.py, line 1)",
     "output_type": "error",
     "traceback": [
      "\u001b[0;36m  Input \u001b[0;32mIn [8]\u001b[0;36m\u001b[0m\n\u001b[0;31m    this is thrid one\u001b[0m\n\u001b[0m                  ^\u001b[0m\n\u001b[0;31mSyntaxError\u001b[0m\u001b[0;31m:\u001b[0m invalid syntax\n"
     ]
    }
   ],
   "source": [
    "this is thrid one "
   ]
  },
  {
   "cell_type": "code",
   "execution_count": 9,
   "id": "dffe7469-f263-4c74-9bc9-1a538ef40c4e",
   "metadata": {},
   "outputs": [
    {
     "ename": "NameError",
     "evalue": "name 'this' is not defined",
     "output_type": "error",
     "traceback": [
      "\u001b[0;31m---------------------------------------------------------------------------\u001b[0m",
      "\u001b[0;31mNameError\u001b[0m                                 Traceback (most recent call last)",
      "Input \u001b[0;32mIn [9]\u001b[0m, in \u001b[0;36m<cell line: 1>\u001b[0;34m()\u001b[0m\n\u001b[0;32m----> 1\u001b[0m \u001b[43mthis\u001b[49m \u001b[38;5;129;01mis\u001b[39;00m nine\n",
      "\u001b[0;31mNameError\u001b[0m: name 'this' is not defined"
     ]
    }
   ],
   "source": [
    "this is nine"
   ]
  },
  {
   "cell_type": "code",
   "execution_count": null,
   "id": "ba9373f7-dd5d-447b-81c6-510e3fb82fd4",
   "metadata": {},
   "outputs": [],
   "source": [
    "this is ten"
   ]
  }
 ],
 "metadata": {
  "kernelspec": {
   "display_name": "Python 3 (ipykernel)",
   "language": "python",
   "name": "python3"
  },
  "language_info": {
   "codemirror_mode": {
    "name": "ipython",
    "version": 3
   },
   "file_extension": ".py",
   "mimetype": "text/x-python",
   "name": "python",
   "nbconvert_exporter": "python",
   "pygments_lexer": "ipython3",
   "version": "3.9.12"
  }
 },
 "nbformat": 4,
 "nbformat_minor": 5
}
