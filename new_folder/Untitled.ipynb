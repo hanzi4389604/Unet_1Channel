{
 "cells": [
  {
   "cell_type": "code",
   "execution_count": 2,
   "id": "c7b28b04-3bd1-46ff-bca4-db4c1522b4d4",
   "metadata": {},
   "outputs": [
    {
     "ename": "NameError",
     "evalue": "name 'new_file_test' is not defined",
     "output_type": "error",
     "traceback": [
      "\u001b[0;31m---------------------------------------------------------------------------\u001b[0m",
      "\u001b[0;31mNameError\u001b[0m                                 Traceback (most recent call last)",
      "Input \u001b[0;32mIn [2]\u001b[0m, in \u001b[0;36m<cell line: 1>\u001b[0;34m()\u001b[0m\n\u001b[0;32m----> 1\u001b[0m \u001b[43mnew_file_test\u001b[49m\n",
      "\u001b[0;31mNameError\u001b[0m: name 'new_file_test' is not defined"
     ]
    }
   ],
   "source": [
    "new_file_test "
   ]
  },
  {
   "cell_type": "code",
   "execution_count": 3,
   "id": "42f415ac-e77e-4ac0-b2d4-43020d2204bf",
   "metadata": {},
   "outputs": [
    {
     "ename": "SyntaxError",
     "evalue": "invalid syntax (162551111.py, line 1)",
     "output_type": "error",
     "traceback": [
      "\u001b[0;36m  Input \u001b[0;32mIn [3]\u001b[0;36m\u001b[0m\n\u001b[0;31m    need to be chagned\u001b[0m\n\u001b[0m         ^\u001b[0m\n\u001b[0;31mSyntaxError\u001b[0m\u001b[0;31m:\u001b[0m invalid syntax\n"
     ]
    }
   ],
   "source": [
    "need to be chagned "
   ]
  },
  {
   "cell_type": "code",
   "execution_count": null,
   "id": "671b2281-7a76-43af-9708-6e6549ad7024",
   "metadata": {},
   "outputs": [],
   "source": [
    "print('why does not work')"
   ]
  }
 ],
 "metadata": {
  "kernelspec": {
   "display_name": "Python 3 (ipykernel)",
   "language": "python",
   "name": "python3"
  },
  "language_info": {
   "codemirror_mode": {
    "name": "ipython",
    "version": 3
   },
   "file_extension": ".py",
   "mimetype": "text/x-python",
   "name": "python",
   "nbconvert_exporter": "python",
   "pygments_lexer": "ipython3",
   "version": "3.9.12"
  }
 },
 "nbformat": 4,
 "nbformat_minor": 5
}
