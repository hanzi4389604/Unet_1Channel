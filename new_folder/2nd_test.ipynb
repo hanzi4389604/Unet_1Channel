{
 "cells": [
  {
   "cell_type": "code",
   "execution_count": null,
   "id": "3cd2d145-f1d0-491f-9ec2-f919c1d10046",
   "metadata": {},
   "outputs": [],
   "source": [
    "sadfsd"
   ]
  }
 ],
 "metadata": {
  "kernelspec": {
   "display_name": "Python 3 (ipykernel)",
   "language": "python",
   "name": "python3"
  },
  "language_info": {
   "codemirror_mode": {
    "name": "ipython",
    "version": 3
   },
   "file_extension": ".py",
   "mimetype": "text/x-python",
   "name": "python",
   "nbconvert_exporter": "python",
   "pygments_lexer": "ipython3",
   "version": "3.9.12"
  }
 },
 "nbformat": 4,
 "nbformat_minor": 5
}
