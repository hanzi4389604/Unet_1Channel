{
 "cells": [
  {
   "cell_type": "code",
   "execution_count": 1,
   "id": "3cd2d145-f1d0-491f-9ec2-f919c1d10046",
   "metadata": {},
   "outputs": [
    {
     "ename": "NameError",
     "evalue": "name 'sadfsd' is not defined",
     "output_type": "error",
     "traceback": [
      "\u001b[0;31m---------------------------------------------------------------------------\u001b[0m",
      "\u001b[0;31mNameError\u001b[0m                                 Traceback (most recent call last)",
      "Input \u001b[0;32mIn [1]\u001b[0m, in \u001b[0;36m<cell line: 1>\u001b[0;34m()\u001b[0m\n\u001b[0;32m----> 1\u001b[0m \u001b[43msadfsd\u001b[49m\n",
      "\u001b[0;31mNameError\u001b[0m: name 'sadfsd' is not defined"
     ]
    }
   ],
   "source": [
    "sadfsd"
   ]
  },
  {
   "cell_type": "code",
   "execution_count": 2,
   "id": "b3837251-1560-4161-9013-8cc5c933f286",
   "metadata": {},
   "outputs": [
    {
     "ename": "SyntaxError",
     "evalue": "invalid syntax (2165813506.py, line 1)",
     "output_type": "error",
     "traceback": [
      "\u001b[0;36m  Input \u001b[0;32mIn [2]\u001b[0;36m\u001b[0m\n\u001b[0;31m    wow wow wow\u001b[0m\n\u001b[0m        ^\u001b[0m\n\u001b[0;31mSyntaxError\u001b[0m\u001b[0;31m:\u001b[0m invalid syntax\n"
     ]
    }
   ],
   "source": [
    "wow wow wow"
   ]
  },
  {
   "cell_type": "code",
   "execution_count": 3,
   "id": "a9c2427c-5e0c-40c7-a67b-13605e4f2e77",
   "metadata": {},
   "outputs": [
    {
     "name": "stdout",
     "output_type": "stream",
     "text": [
      "Object `change` not found.\n"
     ]
    }
   ],
   "source": [
    "did not change?"
   ]
  },
  {
   "cell_type": "code",
   "execution_count": null,
   "id": "a20ab31b-070d-473c-8cba-7bc813e3d2cb",
   "metadata": {},
   "outputs": [],
   "source": [
    "did not change"
   ]
  },
  {
   "cell_type": "code",
   "execution_count": null,
   "id": "05b65bac-6804-4d38-bd41-30b9c583b9ab",
   "metadata": {},
   "outputs": [],
   "source": []
  }
 ],
 "metadata": {
  "kernelspec": {
   "display_name": "Python 3 (ipykernel)",
   "language": "python",
   "name": "python3"
  },
  "language_info": {
   "codemirror_mode": {
    "name": "ipython",
    "version": 3
   },
   "file_extension": ".py",
   "mimetype": "text/x-python",
   "name": "python",
   "nbconvert_exporter": "python",
   "pygments_lexer": "ipython3",
   "version": "3.9.12"
  }
 },
 "nbformat": 4,
 "nbformat_minor": 5
}
